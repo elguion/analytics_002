{
 "cells": [
  {
   "cell_type": "code",
   "execution_count": 15,
   "id": "c5e18f04",
   "metadata": {},
   "outputs": [],
   "source": [
    "#importing the necessary modules for our analysis\n",
    "import pandas as pd\n",
    "import numpy as np\n",
    "from sklearn.model_selection import train_test_split\n",
    "from sklearn.preprocessing import MinMaxScaler\n",
    "from sklearn.metrics import r2_score\n"
   ]
  },
  {
   "cell_type": "code",
   "execution_count": 7,
   "id": "cf1e591d",
   "metadata": {},
   "outputs": [],
   "source": [
    "import tensorflow as tf\n",
    "from tensorflow import keras\n",
    "from tensorflow.keras import Sequential\n",
    "from tensorflow.keras.layers import Dense"
   ]
  },
  {
   "cell_type": "code",
   "execution_count": 24,
   "id": "5e36cf5e",
   "metadata": {},
   "outputs": [
    {
     "name": "stdout",
     "output_type": "stream",
     "text": [
      "Epoch 1/50\n",
      "46/46 [==============================] - 2s 8ms/step - loss: 15590.3564 - val_loss: 15751.6230\n",
      "Epoch 2/50\n",
      "46/46 [==============================] - 0s 4ms/step - loss: 15493.9717 - val_loss: 15606.1045\n",
      "Epoch 3/50\n",
      "46/46 [==============================] - 0s 4ms/step - loss: 15298.0889 - val_loss: 15347.7041\n",
      "Epoch 4/50\n",
      "46/46 [==============================] - 0s 4ms/step - loss: 14962.3428 - val_loss: 14909.3701\n",
      "Epoch 5/50\n",
      "46/46 [==============================] - 0s 4ms/step - loss: 14424.1475 - val_loss: 14247.9219\n",
      "Epoch 6/50\n",
      "46/46 [==============================] - 0s 4ms/step - loss: 13652.3662 - val_loss: 13334.6162\n",
      "Epoch 7/50\n",
      "46/46 [==============================] - 0s 4ms/step - loss: 12628.6494 - val_loss: 12171.1455\n",
      "Epoch 8/50\n",
      "46/46 [==============================] - 0s 4ms/step - loss: 11363.9932 - val_loss: 10775.2080\n",
      "Epoch 9/50\n",
      "46/46 [==============================] - 0s 4ms/step - loss: 9899.6572 - val_loss: 9207.9375\n",
      "Epoch 10/50\n",
      "46/46 [==============================] - 0s 4ms/step - loss: 8302.4658 - val_loss: 7553.7725\n",
      "Epoch 11/50\n",
      "46/46 [==============================] - 0s 4ms/step - loss: 6669.8906 - val_loss: 5918.7827\n",
      "Epoch 12/50\n",
      "46/46 [==============================] - 0s 3ms/step - loss: 5107.1816 - val_loss: 4421.4551\n",
      "Epoch 13/50\n",
      "46/46 [==============================] - 0s 5ms/step - loss: 3720.5847 - val_loss: 3145.3347\n",
      "Epoch 14/50\n",
      "46/46 [==============================] - 0s 4ms/step - loss: 2587.3757 - val_loss: 2156.1584\n",
      "Epoch 15/50\n",
      "46/46 [==============================] - 0s 4ms/step - loss: 1746.1235 - val_loss: 1464.8992\n",
      "Epoch 16/50\n",
      "46/46 [==============================] - 0s 3ms/step - loss: 1182.9297 - val_loss: 1032.3218\n",
      "Epoch 17/50\n",
      "46/46 [==============================] - 0s 3ms/step - loss: 847.2365 - val_loss: 791.8602\n",
      "Epoch 18/50\n",
      "46/46 [==============================] - 0s 4ms/step - loss: 668.6552 - val_loss: 672.6093\n",
      "Epoch 19/50\n",
      "46/46 [==============================] - 0s 3ms/step - loss: 579.3068 - val_loss: 619.9335\n",
      "Epoch 20/50\n",
      "46/46 [==============================] - 0s 4ms/step - loss: 537.7067 - val_loss: 592.4010\n",
      "Epoch 21/50\n",
      "46/46 [==============================] - 0s 3ms/step - loss: 516.4387 - val_loss: 576.9570\n",
      "Epoch 22/50\n",
      "46/46 [==============================] - 0s 4ms/step - loss: 502.8918 - val_loss: 566.2665\n",
      "Epoch 23/50\n",
      "46/46 [==============================] - 0s 3ms/step - loss: 492.9569 - val_loss: 556.8490\n",
      "Epoch 24/50\n",
      "46/46 [==============================] - 0s 3ms/step - loss: 484.3242 - val_loss: 547.1041\n",
      "Epoch 25/50\n",
      "46/46 [==============================] - 0s 3ms/step - loss: 475.4020 - val_loss: 537.4608\n",
      "Epoch 26/50\n",
      "46/46 [==============================] - 0s 4ms/step - loss: 467.0421 - val_loss: 527.7574\n",
      "Epoch 27/50\n",
      "46/46 [==============================] - 0s 5ms/step - loss: 458.5551 - val_loss: 518.5065\n",
      "Epoch 28/50\n",
      "46/46 [==============================] - 0s 4ms/step - loss: 450.1863 - val_loss: 509.4386\n",
      "Epoch 29/50\n",
      "46/46 [==============================] - 0s 3ms/step - loss: 442.0986 - val_loss: 500.0161\n",
      "Epoch 30/50\n",
      "46/46 [==============================] - 0s 4ms/step - loss: 434.0175 - val_loss: 490.7287\n",
      "Epoch 31/50\n",
      "46/46 [==============================] - 0s 4ms/step - loss: 426.0664 - val_loss: 481.6260\n",
      "Epoch 32/50\n",
      "46/46 [==============================] - 0s 4ms/step - loss: 417.9149 - val_loss: 472.2875\n",
      "Epoch 33/50\n",
      "46/46 [==============================] - 0s 4ms/step - loss: 410.2493 - val_loss: 463.1447\n",
      "Epoch 34/50\n",
      "46/46 [==============================] - 0s 4ms/step - loss: 402.4922 - val_loss: 454.8920\n",
      "Epoch 35/50\n",
      "46/46 [==============================] - 0s 4ms/step - loss: 394.7101 - val_loss: 445.8118\n",
      "Epoch 36/50\n",
      "46/46 [==============================] - 0s 3ms/step - loss: 387.5040 - val_loss: 436.7501\n",
      "Epoch 37/50\n",
      "46/46 [==============================] - 0s 3ms/step - loss: 379.7663 - val_loss: 428.7049\n",
      "Epoch 38/50\n",
      "46/46 [==============================] - 0s 4ms/step - loss: 372.2966 - val_loss: 420.0190\n",
      "Epoch 39/50\n",
      "46/46 [==============================] - 0s 4ms/step - loss: 365.0270 - val_loss: 411.7562\n",
      "Epoch 40/50\n",
      "46/46 [==============================] - 0s 4ms/step - loss: 357.8920 - val_loss: 403.6694\n",
      "Epoch 41/50\n",
      "46/46 [==============================] - 0s 4ms/step - loss: 350.8852 - val_loss: 395.5850\n",
      "Epoch 42/50\n",
      "46/46 [==============================] - 0s 5ms/step - loss: 344.0392 - val_loss: 387.6259\n",
      "Epoch 43/50\n",
      "46/46 [==============================] - 0s 4ms/step - loss: 337.1574 - val_loss: 379.5853\n",
      "Epoch 44/50\n",
      "46/46 [==============================] - 0s 5ms/step - loss: 330.5233 - val_loss: 371.7967\n",
      "Epoch 45/50\n",
      "46/46 [==============================] - 0s 4ms/step - loss: 323.7446 - val_loss: 363.9480\n",
      "Epoch 46/50\n",
      "46/46 [==============================] - 0s 4ms/step - loss: 317.0236 - val_loss: 356.5982\n",
      "Epoch 47/50\n",
      "46/46 [==============================] - 0s 6ms/step - loss: 310.6458 - val_loss: 349.1536\n",
      "Epoch 48/50\n",
      "46/46 [==============================] - 0s 10ms/step - loss: 304.3561 - val_loss: 341.3817\n",
      "Epoch 49/50\n",
      "46/46 [==============================] - 0s 5ms/step - loss: 297.9748 - val_loss: 334.4763\n",
      "Epoch 50/50\n",
      "46/46 [==============================] - 0s 5ms/step - loss: 291.8293 - val_loss: 327.3405\n"
     ]
    },
    {
     "data": {
      "text/plain": [
       "<keras.src.callbacks.History at 0x23e2cddc910>"
      ]
     },
     "execution_count": 24,
     "metadata": {},
     "output_type": "execute_result"
    }
   ],
   "source": [
    "#loading the dataset into a dataframe\n",
    "file_path = r'C:\\Users\\Gregory Bazuaye\\Downloads\\gld_price_data.csv'\n",
    "dataset = pd.read_csv(file_path)\n",
    "\n",
    "\n",
    "\n",
    "#extracting our x and y variables\n",
    "x = dataset[['SPX' , 'USO' , 'SLV' ,'EUR/USD']] # note this syntax\n",
    "y = dataset['GLD']\n",
    "\n",
    "#scaling the data\n",
    "scaler = MinMaxScaler()\n",
    "\n",
    "x = scaler.fit_transform(x)\n",
    "\n",
    "#split the dataset into train and test\n",
    "\n",
    "x_train , x_test , y_train ,y_test = train_test_split (x , y , test_size = 0.2)\n",
    "\n",
    "\n",
    "# create a neural network to perform the prediction\n",
    "\n",
    "model = Sequential()\n",
    "model.add(Dense(10 , activation ='relu' , input_dim =4))\n",
    "model.add(Dense(10 , activation ='relu'))\n",
    "model.add(Dense(1 , activation ='linear'))\n",
    "          \n",
    "          \n",
    "\n",
    "model.compile(loss ='mean_squared_error' , optimizer ='Adam')\n",
    "model.fit(x_train ,y_train , epochs = 50 , validation_split = 0.2)"
   ]
  },
  {
   "cell_type": "code",
   "execution_count": 20,
   "id": "50161373",
   "metadata": {},
   "outputs": [
    {
     "name": "stdout",
     "output_type": "stream",
     "text": [
      "15/15 [==============================] - 0s 2ms/step\n",
      "The accuracy  is  78.86003338963359 %\n"
     ]
    }
   ],
   "source": [
    "predictions = model.predict(x_test )\n",
    "\n",
    "accuracy = r2_score(y_test , predictions)\n",
    "\n",
    "print(f'The accuracy  is  {accuracy *100} %')"
   ]
  },
  {
   "cell_type": "code",
   "execution_count": null,
   "id": "1e8ace81",
   "metadata": {},
   "outputs": [],
   "source": []
  },
  {
   "cell_type": "code",
   "execution_count": null,
   "id": "c4a7485d",
   "metadata": {},
   "outputs": [],
   "source": []
  },
  {
   "cell_type": "code",
   "execution_count": null,
   "id": "cca0e35d",
   "metadata": {},
   "outputs": [],
   "source": []
  }
 ],
 "metadata": {
  "kernelspec": {
   "display_name": "Python 3 (ipykernel)",
   "language": "python",
   "name": "python3"
  },
  "language_info": {
   "codemirror_mode": {
    "name": "ipython",
    "version": 3
   },
   "file_extension": ".py",
   "mimetype": "text/x-python",
   "name": "python",
   "nbconvert_exporter": "python",
   "pygments_lexer": "ipython3",
   "version": "3.11.3"
  }
 },
 "nbformat": 4,
 "nbformat_minor": 5
}
